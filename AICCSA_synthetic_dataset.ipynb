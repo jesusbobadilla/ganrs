{
 "cells": [
  {
   "cell_type": "markdown",
   "metadata": {},
   "source": [
    "## Synthetic Recommender Systems Datasets"
   ]
  },
  {
   "cell_type": "code",
   "execution_count": 1,
   "metadata": {
    "ExecuteTime": {
     "end_time": "2023-04-14T15:40:58.596187Z",
     "start_time": "2023-04-14T15:40:58.098163Z"
    }
   },
   "outputs": [],
   "source": [
    "import itertools\n",
    "import matplotlib.pyplot as plt\n",
    "import numpy as np\n",
    "import pandas as pd\n",
    "from random import sample\n",
    "from scipy.stats import truncnorm"
   ]
  },
  {
   "cell_type": "code",
   "execution_count": 2,
   "metadata": {
    "ExecuteTime": {
     "end_time": "2023-04-14T15:40:58.603100Z",
     "start_time": "2023-04-14T15:40:58.599102Z"
    }
   },
   "outputs": [],
   "source": [
    "# generate random integer data between low and upp, following a gaussian distribution (mean, sd) \n",
    "def get_truncated_normal(mean=0, sd=1, low=1, upp=5, size=1):\n",
    "    return np.rint(truncnorm((low - mean) / sd, (upp - mean) / sd, loc=mean, scale=sd).rvs(size))"
   ]
  },
  {
   "cell_type": "code",
   "execution_count": 3,
   "metadata": {
    "ExecuteTime": {
     "end_time": "2023-04-14T15:40:58.612145Z",
     "start_time": "2023-04-14T15:40:58.605415Z"
    },
    "scrolled": true
   },
   "outputs": [],
   "source": [
    "def plot_items(data, ids_female):\n",
    "    items_votes_male = data.item[~data.user.isin(ids_female)].value_counts()\n",
    "    items_votes_male.sort_index(inplace=True)\n",
    "    items_votes_female = data.item[data.user.isin(ids_female)].value_counts()\n",
    "    items_votes_female.sort_index(inplace=True)\n",
    "    \n",
    "    plt.title('item votes distribution')\n",
    "    plt.xlabel(\"#items\")\n",
    "    plt.bar(items_votes_male.index, items_votes_male.values, width=1, color=\"blue\", label='male')\n",
    "    plt.bar(items_votes_female.index, items_votes_female.values, width=1, color=\"orange\", alpha=0.6, label='female')\n",
    "    plt.ylabel(\"#votes\")\n",
    "    plt.legend(loc='center left', bbox_to_anchor=(1.0, 0.5))\n",
    "    plt.grid(True, axis=\"y\")\n",
    "    plt.tight_layout() \n",
    "    plt.show()"
   ]
  },
  {
   "cell_type": "code",
   "execution_count": 4,
   "metadata": {
    "ExecuteTime": {
     "end_time": "2023-04-14T15:40:58.620833Z",
     "start_time": "2023-04-14T15:40:58.613941Z"
    }
   },
   "outputs": [],
   "source": [
    "def plot_ratings(data, ids_female):\n",
    "    rating_votes_male = data.rating[~data.user.isin(ids_female)].value_counts()\n",
    "    rating_votes_male.sort_index(inplace=True)\n",
    "    rating_votes_male_norm = (rating_votes_male*100)/rating_votes_male.sum()\n",
    "    rating_votes_female = data.rating[data.user.isin(ids_female)].value_counts()\n",
    "    rating_votes_female.sort_index(inplace=True)\n",
    "    rating_votes_female_norm = (rating_votes_female*100)/rating_votes_female.sum()\n",
    "\n",
    "    plt.title(\"Rating distribution\")\n",
    "    plt.xlabel(\"rating\")\n",
    "    plt.ylabel(\"%rating\")\n",
    "    x_index = rating_votes_male_norm.index.values\n",
    "    plt.bar(x_index-0.2, rating_votes_male_norm.values, width=0.4, color=\"orange\", label='male')\n",
    "    plt.bar(x_index+0.2, rating_votes_female_norm.values, width=0.4, color=\"blue\", label='female')\n",
    "    plt.legend(loc='center left', bbox_to_anchor=(1, 0.5))\n",
    "    plt.grid(True, axis=\"y\")\n",
    "    plt.show()"
   ]
  },
  {
   "cell_type": "code",
   "execution_count": 5,
   "metadata": {
    "ExecuteTime": {
     "end_time": "2023-04-14T15:40:58.625891Z",
     "start_time": "2023-04-14T15:40:58.622601Z"
    }
   },
   "outputs": [],
   "source": [
    "def generate_ids(num_male, num_female):\n",
    "    ids = range(1,num_male+num_female+1)\n",
    "    ids_female = sample(ids,num_female)\n",
    "    ids_male = list(np.setdiff1d(ids, ids_female, True))\n",
    "    return ids_male, ids_female\n"
   ]
  },
  {
   "cell_type": "code",
   "execution_count": 6,
   "metadata": {
    "ExecuteTime": {
     "end_time": "2023-04-14T15:40:58.632133Z",
     "start_time": "2023-04-14T15:40:58.627723Z"
    }
   },
   "outputs": [],
   "source": [
    "def generate_df_ids(ids_male, ids_female):\n",
    "    ids = np.concatenate((ids_male, ids_female))\n",
    "    frame = {'user': ids, 'gender': np.tile(0, len(ids))}\n",
    "    data = pd.DataFrame(frame, dtype=int)\n",
    "    data.gender[data.user.isin(ids_female)] = 1\n",
    "    data.sort_values(by=['user'], ignore_index=True, inplace=True)\n",
    "    return data\n"
   ]
  },
  {
   "cell_type": "code",
   "execution_count": 7,
   "metadata": {
    "ExecuteTime": {
     "end_time": "2023-04-14T15:40:58.637662Z",
     "start_time": "2023-04-14T15:40:58.634979Z"
    }
   },
   "outputs": [],
   "source": [
    "def generate_csv(data, filename):\n",
    "    data.to_csv(filename, index=False)\n"
   ]
  },
  {
   "cell_type": "code",
   "execution_count": 8,
   "metadata": {
    "ExecuteTime": {
     "end_time": "2023-04-14T15:40:58.649821Z",
     "start_time": "2023-04-14T15:40:58.640018Z"
    }
   },
   "outputs": [],
   "source": [
    "def generate_fake(mean_male, sd_male, low_male, upp_male,\n",
    "                mean_female, sd_female, low_female, upp_female):\n",
    "    \n",
    "    # random number of votes casted for each male user\n",
    "    votes_per_male_user = np.random.randint(num_min_votes, num_max_votes, num_male)\n",
    "    # total number of votes casted for each male user\n",
    "    num_male_votes = sum(votes_per_male_user)\n",
    "    # casted votes following a Gaussian distribution\n",
    "    random_male_ratings = get_truncated_normal(mean=3, sd=1, size=num_male_votes)\n",
    "    # casted votes for male users following a Gaussian distribution (mean, sd)\n",
    "    random_male_items = get_truncated_normal(mean=mean_male,\n",
    "                                             sd=sd_male,\n",
    "                                             low=low_male,\n",
    "                                             upp=upp_male,\n",
    "                                             size=num_male_votes)\n",
    "    \n",
    "    # votes list\n",
    "    male_votes = []   \n",
    "    for userid, votes in zip(ids_male, votes_per_male_user):\n",
    "        male_votes.append(np.tile(userid, votes))\n",
    "    male_votes = list(itertools.chain.from_iterable(male_votes))\n",
    "    \n",
    "    # random number of votes casted for each female user\n",
    "    votes_per_female_user = np.random.randint(num_min_votes, num_max_votes, num_female)\n",
    "    # total number of votes casted for each female user\n",
    "    num_female_votes = sum(votes_per_female_user)\n",
    "    # casted votes following a Gaussian distribution\n",
    "    random_female_ratings = get_truncated_normal(mean=3, sd=1, size=num_female_votes)\n",
    "    # casted votes for male users following a Gaussian distribution (mean, sd)\n",
    "    random_female_items = get_truncated_normal(mean=mean_female,\n",
    "                                             sd=sd_female,\n",
    "                                             low=low_female,\n",
    "                                             upp=upp_female,\n",
    "                                             size=num_female_votes)\n",
    "\n",
    "    # votes list\n",
    "    female_votes = []   \n",
    "    for userid, votes in zip(ids_female, votes_per_female_user):\n",
    "        female_votes.append(np.tile(userid, votes))\n",
    "    female_votes = list(itertools.chain.from_iterable(female_votes))\n",
    "\n",
    "    # dataframe fake generation\n",
    "    frame = {'user': np.concatenate((male_votes, female_votes)),\n",
    "             'item': np.concatenate((random_male_items, random_female_items)),\n",
    "             'rating': np.concatenate((random_male_ratings, random_female_ratings))}\n",
    "    data = pd.DataFrame(frame, dtype=int)\n",
    "    data.sort_values(by=['user'], ignore_index=True, inplace=True)\n",
    "    return data\n"
   ]
  },
  {
   "cell_type": "markdown",
   "metadata": {},
   "source": [
    "### Parámetros generales"
   ]
  },
  {
   "cell_type": "code",
   "execution_count": 9,
   "metadata": {
    "ExecuteTime": {
     "end_time": "2023-04-14T15:40:58.666389Z",
     "start_time": "2023-04-14T15:40:58.651653Z"
    }
   },
   "outputs": [],
   "source": [
    "num_items  = 1000\n",
    "num_male   = 1500\n",
    "num_female = 300\n",
    "num_min_votes = 20\n",
    "num_max_votes = 120\n",
    "\n",
    "ids_male, ids_female = generate_ids(num_male, num_female)\n",
    "gender = generate_df_ids(ids_male, ids_female)\n",
    "generate_csv(gender, 'gender.txt')"
   ]
  },
  {
   "cell_type": "markdown",
   "metadata": {},
   "source": [
    "### male/female balanced distribution"
   ]
  },
  {
   "cell_type": "code",
   "execution_count": 10,
   "metadata": {
    "ExecuteTime": {
     "end_time": "2023-04-14T15:41:01.692839Z",
     "start_time": "2023-04-14T15:40:58.668189Z"
    }
   },
   "outputs": [],
   "source": [
    "data = generate_fake(mean_male=500, sd_male=200, low_male=1, upp_male=1000,\n",
    "                   mean_female=500, sd_female=200, low_female=1, upp_female=1000)"
   ]
  },
  {
   "cell_type": "code",
   "execution_count": 11,
   "metadata": {
    "ExecuteTime": {
     "end_time": "2023-04-14T15:41:01.932095Z",
     "start_time": "2023-04-14T15:41:01.695326Z"
    }
   },
   "outputs": [],
   "source": [
    "generate_csv(data, 'synthetic_100.txt')"
   ]
  },
  {
   "cell_type": "code",
   "execution_count": 12,
   "metadata": {
    "ExecuteTime": {
     "end_time": "2023-04-14T15:41:06.885931Z",
     "start_time": "2023-04-14T15:41:01.935010Z"
    }
   },
   "outputs": [
    {
     "data": {
      "image/png": "[encoded data removed]",
      "text/plain": [
       "<Figure size 432x288 with 1 Axes>"
      ]
     },
     "metadata": {
      "needs_background": "light"
     },
     "output_type": "display_data"
    }
   ],
   "source": [
    "plot_items(data, ids_female)"
   ]
  },
  {
   "cell_type": "code",
   "execution_count": 13,
   "metadata": {
    "ExecuteTime": {
     "end_time": "2023-04-14T15:41:07.329837Z",
     "start_time": "2023-04-14T15:41:06.888468Z"
    }
   },
   "outputs": [
    {
     "data": {
      "image/png": "[encoded data removed]",
      "text/plain": [
       "<Figure size 432x288 with 1 Axes>"
      ]
     },
     "metadata": {
      "needs_background": "light"
     },
     "output_type": "display_data"
    }
   ],
   "source": [
    "plot_ratings(data, ids_female)"
   ]
  },
  {
   "cell_type": "markdown",
   "metadata": {},
   "source": [
    "### male/female 80% distribution"
   ]
  },
  {
   "cell_type": "code",
   "execution_count": 14,
   "metadata": {
    "ExecuteTime": {
     "end_time": "2023-04-14T15:41:10.350004Z",
     "start_time": "2023-04-14T15:41:07.332108Z"
    }
   },
   "outputs": [],
   "source": [
    "data = generate_fake(mean_male=400, sd_male=140, low_male=1, upp_male=800,\n",
    "                   mean_female=580, sd_female=200, low_female=160, upp_female=1000)"
   ]
  },
  {
   "cell_type": "code",
   "execution_count": 15,
   "metadata": {
    "ExecuteTime": {
     "end_time": "2023-04-14T15:41:10.580484Z",
     "start_time": "2023-04-14T15:41:10.352524Z"
    }
   },
   "outputs": [],
   "source": [
    "generate_csv(data, 'synthetic_80.txt')"
   ]
  },
  {
   "cell_type": "code",
   "execution_count": 16,
   "metadata": {
    "ExecuteTime": {
     "end_time": "2023-04-14T15:41:14.672606Z",
     "start_time": "2023-04-14T15:41:10.583544Z"
    }
   },
   "outputs": [
    {
     "data": {
      "image/png": "[encoded data removed]",
      "text/plain": [
       "<Figure size 432x288 with 1 Axes>"
      ]
     },
     "metadata": {
      "needs_background": "light"
     },
     "output_type": "display_data"
    }
   ],
   "source": [
    "plot_items(data, ids_female)"
   ]
  },
  {
   "cell_type": "markdown",
   "metadata": {},
   "source": [
    "### male/female 60% distribution"
   ]
  },
  {
   "cell_type": "code",
   "execution_count": 17,
   "metadata": {
    "ExecuteTime": {
     "end_time": "2023-04-14T15:41:17.669463Z",
     "start_time": "2023-04-14T15:41:14.674933Z"
    }
   },
   "outputs": [],
   "source": [
    "data = generate_fake(mean_male=350, sd_male=140, low_male=1, upp_male=800,\n",
    "                   mean_female=660, sd_female=140, low_female=320, upp_female=1000)"
   ]
  },
  {
   "cell_type": "code",
   "execution_count": 18,
   "metadata": {
    "ExecuteTime": {
     "end_time": "2023-04-14T15:41:17.906225Z",
     "start_time": "2023-04-14T15:41:17.672071Z"
    }
   },
   "outputs": [],
   "source": [
    "generate_csv(data, 'synthetic_60.txt')"
   ]
  },
  {
   "cell_type": "code",
   "execution_count": 19,
   "metadata": {
    "ExecuteTime": {
     "end_time": "2023-04-14T15:41:21.834696Z",
     "start_time": "2023-04-14T15:41:17.908355Z"
    },
    "scrolled": true
   },
   "outputs": [
    {
     "data": {
      "image/png": "[encoded data removed]",
      "text/plain": [
       "<Figure size 432x288 with 1 Axes>"
      ]
     },
     "metadata": {
      "needs_background": "light"
     },
     "output_type": "display_data"
    }
   ],
   "source": [
    "plot_items(data, ids_female)"
   ]
  },
  {
   "cell_type": "markdown",
   "metadata": {},
   "source": [
    "### male/female 40% distribution"
   ]
  },
  {
   "cell_type": "code",
   "execution_count": 20,
   "metadata": {
    "ExecuteTime": {
     "end_time": "2023-04-14T15:41:24.906541Z",
     "start_time": "2023-04-14T15:41:21.837130Z"
    }
   },
   "outputs": [],
   "source": [
    "data = generate_fake(mean_male=350, sd_male=140, low_male=1, upp_male=800,\n",
    "                   mean_female=740, sd_female=80, low_female=480, upp_female=1000)"
   ]
  },
  {
   "cell_type": "code",
   "execution_count": 21,
   "metadata": {
    "ExecuteTime": {
     "end_time": "2023-04-14T15:41:25.143296Z",
     "start_time": "2023-04-14T15:41:24.909441Z"
    }
   },
   "outputs": [],
   "source": [
    "generate_csv(data, 'synthetic_40.txt')"
   ]
  },
  {
   "cell_type": "code",
   "execution_count": 22,
   "metadata": {
    "ExecuteTime": {
     "end_time": "2023-04-14T15:41:28.541561Z",
     "start_time": "2023-04-14T15:41:25.147404Z"
    },
    "scrolled": true
   },
   "outputs": [
    {
     "data": {
      "image/png": "[encoded data removed]",
      "text/plain": [
       "<Figure size 432x288 with 1 Axes>"
      ]
     },
     "metadata": {
      "needs_background": "light"
     },
     "output_type": "display_data"
    }
   ],
   "source": [
    "plot_items(data, ids_female)"
   ]
  },
  {
   "cell_type": "markdown",
   "metadata": {},
   "source": [
    "### male/female 20% distribution"
   ]
  },
  {
   "cell_type": "code",
   "execution_count": 26,
   "metadata": {
    "ExecuteTime": {
     "end_time": "2023-04-14T15:43:52.901413Z",
     "start_time": "2023-04-14T15:43:49.815953Z"
    }
   },
   "outputs": [],
   "source": [
    "data = generate_fake(mean_male=350, sd_male=140, low_male=1, upp_male=800, \n",
    "                   mean_female=820, sd_female=20, low_female=640, upp_female=1000)"
   ]
  },
  {
   "cell_type": "code",
   "execution_count": 28,
   "metadata": {
    "ExecuteTime": {
     "end_time": "2023-04-14T15:44:03.912287Z",
     "start_time": "2023-04-14T15:44:01.181517Z"
    }
   },
   "outputs": [
    {
     "data": {
      "image/png": "[encoded data removed]",
      "text/plain": [
       "<Figure size 432x288 with 1 Axes>"
      ]
     },
     "metadata": {
      "needs_background": "light"
     },
     "output_type": "display_data"
    }
   ],
   "source": [
    "generate_csv(data, 'synthetic_20.txt')\n",
    "plot_items(data, ids_female)"
   ]
  },
  {
   "cell_type": "code",
   "execution_count": 25,
   "metadata": {
    "ExecuteTime": {
     "end_time": "2023-04-14T15:41:37.610013Z",
     "start_time": "2023-04-14T15:41:31.782781Z"
    }
   },
   "outputs": [
    {
     "data": {
      "image/png": "[encoded data removed]",
      "text/plain": [
       "<Figure size 432x288 with 1 Axes>"
      ]
     },
     "metadata": {
      "needs_background": "light"
     },
     "output_type": "display_data"
    }
   ],
   "source": [
    "data = generate_fake(mean_male=400, sd_male=140, low_male=1, upp_male=800,\n",
    "                   mean_female=900, sd_female=20, low_female=801, upp_female=1000)\n",
    "generate_csv(data, 'synthetic_00.txt')\n",
    "plot_items(data, ids_female)"
   ]
  }
 ],
 "metadata": {
  "kernelspec": {
   "display_name": "Python 3",
   "language": "python",
   "name": "python3"
  },
  "language_info": {
   "codemirror_mode": {
    "name": "ipython",
    "version": 3
   },
   "file_extension": ".py",
   "mimetype": "text/x-python",
   "name": "python",
   "nbconvert_exporter": "python",
   "pygments_lexer": "ipython3",
   "version": "3.8.5"
  },
  "toc": {
   "base_numbering": 1,
   "nav_menu": {},
   "number_sections": false,
   "sideBar": true,
   "skip_h1_title": false,
   "title_cell": "Table of Contents",
   "title_sidebar": "Contents",
   "toc_cell": false,
   "toc_position": {},
   "toc_section_display": true,
   "toc_window_display": false
  }
 },
 "nbformat": 4,
 "nbformat_minor": 5
}
